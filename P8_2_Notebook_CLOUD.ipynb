{
 "cells": [
  {
   "cell_type": "markdown",
   "id": "b106d029",
   "metadata": {},
   "source": [
    "# P8 Déployez un modèle dans le cloud"
   ]
  },
  {
   "cell_type": "code",
   "execution_count": 1,
   "id": "28fb23f7",
   "metadata": {},
   "outputs": [
    {
     "data": {
      "application/vnd.jupyter.widget-view+json": {
       "model_id": "d23f19e1cf494a899faad5940d8604aa",
       "version_major": 2,
       "version_minor": 0
      },
      "text/plain": [
       "VBox()"
      ]
     },
     "metadata": {},
     "output_type": "display_data"
    },
    {
     "name": "stdout",
     "output_type": "stream",
     "text": [
      "Starting Spark application\n"
     ]
    },
    {
     "data": {
      "text/html": [
       "<table>\n",
       "<tr><th>ID</th><th>YARN Application ID</th><th>Kind</th><th>State</th><th>Spark UI</th><th>Driver log</th><th>Current session?</th></tr><tr><td>1</td><td>application_1619440062961_0003</td><td>pyspark</td><td>idle</td><td><a target=\"_blank\" href=\"http://ip-172-31-8-48.eu-west-3.compute.internal:20888/proxy/application_1619440062961_0003/\">Link</a></td><td><a target=\"_blank\" href=\"http://ip-172-31-12-30.eu-west-3.compute.internal:8042/node/containerlogs/container_1619440062961_0003_01_000001/livy\">Link</a></td><td>✔</td></tr></table>"
      ],
      "text/plain": [
       "<IPython.core.display.HTML object>"
      ]
     },
     "metadata": {},
     "output_type": "display_data"
    },
    {
     "data": {
      "application/vnd.jupyter.widget-view+json": {
       "model_id": "",
       "version_major": 2,
       "version_minor": 0
      },
      "text/plain": [
       "FloatProgress(value=0.0, bar_style='info', description='Progress:', layout=Layout(height='25px', width='50%'),…"
      ]
     },
     "metadata": {},
     "output_type": "display_data"
    },
    {
     "name": "stdout",
     "output_type": "stream",
     "text": [
      "SparkSession available as 'spark'.\n"
     ]
    },
    {
     "data": {
      "application/vnd.jupyter.widget-view+json": {
       "model_id": "",
       "version_major": 2,
       "version_minor": 0
      },
      "text/plain": [
       "FloatProgress(value=0.0, bar_style='info', description='Progress:', layout=Layout(height='25px', width='50%'),…"
      ]
     },
     "metadata": {},
     "output_type": "display_data"
    },
    {
     "name": "stdout",
     "output_type": "stream",
     "text": [
      "'2.1.0'"
     ]
    }
   ],
   "source": [
    "# Librairies classiques\n",
    "import pandas as pd\n",
    "import numpy as np\n",
    "import os\n",
    "import io\n",
    "import time\n",
    "import argparse\n",
    "\n",
    "# Lecture d'images\n",
    "import PIL\n",
    "from PIL import Image\n",
    "\n",
    "# Pyspark\n",
    "import findspark\n",
    "findspark.init()\n",
    "import pyspark\n",
    "from pyspark.sql import SparkSession, Row\n",
    "from pyspark.sql.types import *\n",
    "\n",
    "from pyspark.sql.functions import element_at, split\n",
    "from pyspark.sql.functions import udf\n",
    "from pyspark.sql.types import StringType\n",
    "from pyspark.sql.functions import col, pandas_udf, PandasUDFType\n",
    "from pyspark.sql.functions import element_at, split\n",
    "\n",
    "from pyspark.ml.feature import PCA\n",
    "from pyspark.ml.feature import StandardScaler\n",
    "from pyspark.ml.linalg import Vectors, VectorUDT, DenseVector\n",
    "from pyspark.ml.feature import StringIndexer, VectorAssembler\n",
    "from pyspark.ml.evaluation import MulticlassClassificationEvaluator\n",
    "from pyspark.ml.classification import LogisticRegression\n",
    "from pyspark.ml import Pipeline\n",
    "from pyspark.ml.classification import RandomForestClassifier\n",
    "\n",
    "# tensorflow\n",
    "import tensorflow as tf\n",
    "from tensorflow.keras.applications.xception import Xception, preprocess_input\n",
    "from tensorflow.keras.preprocessing.image import img_to_array, load_img\n",
    "tf.__version__"
   ]
  },
  {
   "cell_type": "markdown",
   "id": "8387fa6e",
   "metadata": {},
   "source": [
    "## Chargement des données"
   ]
  },
  {
   "cell_type": "code",
   "execution_count": 2,
   "id": "a693e867",
   "metadata": {},
   "outputs": [
    {
     "data": {
      "application/vnd.jupyter.widget-view+json": {
       "model_id": "20ee21a8abfa4a0cad56ad82b7c8c42b",
       "version_major": 2,
       "version_minor": 0
      },
      "text/plain": [
       "VBox()"
      ]
     },
     "metadata": {},
     "output_type": "display_data"
    },
    {
     "data": {
      "application/vnd.jupyter.widget-view+json": {
       "model_id": "",
       "version_major": 2,
       "version_minor": 0
      },
      "text/plain": [
       "FloatProgress(value=0.0, bar_style='info', description='Progress:', layout=Layout(height='25px', width='50%'),…"
      ]
     },
     "metadata": {},
     "output_type": "display_data"
    }
   ],
   "source": [
    "data_source = 's3://p8bucket/images/*'\n",
    "output_uri = 's3://p8bucket/resultats'"
   ]
  },
  {
   "cell_type": "markdown",
   "id": "22138a5f",
   "metadata": {},
   "source": [
    "### Chargement des données en format \"binaryFile\""
   ]
  },
  {
   "cell_type": "code",
   "execution_count": 3,
   "id": "ae9cf41e",
   "metadata": {},
   "outputs": [
    {
     "data": {
      "application/vnd.jupyter.widget-view+json": {
       "model_id": "2fcc6efdc4f64bf58046640c6b636fe7",
       "version_major": 2,
       "version_minor": 0
      },
      "text/plain": [
       "VBox()"
      ]
     },
     "metadata": {},
     "output_type": "display_data"
    },
    {
     "data": {
      "application/vnd.jupyter.widget-view+json": {
       "model_id": "",
       "version_major": 2,
       "version_minor": 0
      },
      "text/plain": [
       "FloatProgress(value=0.0, bar_style='info', description='Progress:', layout=Layout(height='25px', width='50%'),…"
      ]
     },
     "metadata": {},
     "output_type": "display_data"
    }
   ],
   "source": [
    "# Chargement des données\n",
    "# En format \"binaryFile\"\n",
    "df_binary = spark.read.format(\"binaryFile\") \\\n",
    "    .option(\"pathGlobFilter\", \"*.jpg\") \\\n",
    "    .option(\"recursiveFileLookup\", \"true\") \\\n",
    "    .load(data_source)"
   ]
  },
  {
   "cell_type": "code",
   "execution_count": 4,
   "id": "37385ec2",
   "metadata": {},
   "outputs": [
    {
     "data": {
      "application/vnd.jupyter.widget-view+json": {
       "model_id": "50d17e55ea8b4f6bbe42dc53701c9fc4",
       "version_major": 2,
       "version_minor": 0
      },
      "text/plain": [
       "VBox()"
      ]
     },
     "metadata": {},
     "output_type": "display_data"
    },
    {
     "data": {
      "application/vnd.jupyter.widget-view+json": {
       "model_id": "",
       "version_major": 2,
       "version_minor": 0
      },
      "text/plain": [
       "FloatProgress(value=0.0, bar_style='info', description='Progress:', layout=Layout(height='25px', width='50%'),…"
      ]
     },
     "metadata": {},
     "output_type": "display_data"
    },
    {
     "name": "stdout",
     "output_type": "stream",
     "text": [
      "+--------------------+-------------------+------+--------------------+\n",
      "|                path|   modificationTime|length|             content|\n",
      "+--------------------+-------------------+------+--------------------+\n",
      "|s3://p8bucket/ima...|2021-04-23 06:33:02|  6989|[FF D8 FF E0 00 1...|\n",
      "|s3://p8bucket/ima...|2021-04-23 06:34:21|  6987|[FF D8 FF E0 00 1...|\n",
      "|s3://p8bucket/ima...|2021-04-23 06:33:14|  6984|[FF D8 FF E0 00 1...|\n",
      "|s3://p8bucket/ima...|2021-04-23 06:33:00|  6982|[FF D8 FF E0 00 1...|\n",
      "|s3://p8bucket/ima...|2021-04-23 06:33:01|  6973|[FF D8 FF E0 00 1...|\n",
      "+--------------------+-------------------+------+--------------------+\n",
      "only showing top 5 rows"
     ]
    }
   ],
   "source": [
    "df_binary.show(5)"
   ]
  },
  {
   "cell_type": "markdown",
   "id": "4a4d4340",
   "metadata": {},
   "source": [
    "### Extraction de la classe de chaque image de fruit"
   ]
  },
  {
   "cell_type": "code",
   "execution_count": 5,
   "id": "e152cfef",
   "metadata": {},
   "outputs": [
    {
     "data": {
      "application/vnd.jupyter.widget-view+json": {
       "model_id": "799349aa585c4cc6ae5375bcb44018ac",
       "version_major": 2,
       "version_minor": 0
      },
      "text/plain": [
       "VBox()"
      ]
     },
     "metadata": {},
     "output_type": "display_data"
    },
    {
     "data": {
      "application/vnd.jupyter.widget-view+json": {
       "model_id": "",
       "version_major": 2,
       "version_minor": 0
      },
      "text/plain": [
       "FloatProgress(value=0.0, bar_style='info', description='Progress:', layout=Layout(height='25px', width='50%'),…"
      ]
     },
     "metadata": {},
     "output_type": "display_data"
    }
   ],
   "source": [
    "# On extrait la classe de chaque image de fruit\n",
    "df_binary = df_binary.withColumn('classe', element_at(split(df_binary['path'], \"/\"), -2))"
   ]
  },
  {
   "cell_type": "markdown",
   "id": "e51c70aa",
   "metadata": {},
   "source": [
    "## Extraction des features"
   ]
  },
  {
   "cell_type": "code",
   "execution_count": 6,
   "id": "b152da24",
   "metadata": {},
   "outputs": [
    {
     "data": {
      "application/vnd.jupyter.widget-view+json": {
       "model_id": "c9490992871c41a6bd4ea9ebfcb244ba",
       "version_major": 2,
       "version_minor": 0
      },
      "text/plain": [
       "VBox()"
      ]
     },
     "metadata": {},
     "output_type": "display_data"
    },
    {
     "data": {
      "application/vnd.jupyter.widget-view+json": {
       "model_id": "",
       "version_major": 2,
       "version_minor": 0
      },
      "text/plain": [
       "FloatProgress(value=0.0, bar_style='info', description='Progress:', layout=Layout(height='25px', width='50%'),…"
      ]
     },
     "metadata": {},
     "output_type": "display_data"
    }
   ],
   "source": [
    "## Extraction des features\n",
    "# Modèle\n",
    "model = Xception(\n",
    "        include_top=False, # top layer supprimé\n",
    "        weights=None,\n",
    "        input_shape=(100,100,3),\n",
    "        pooling='max'\n",
    ")"
   ]
  },
  {
   "cell_type": "code",
   "execution_count": 7,
   "id": "c98c34b1",
   "metadata": {},
   "outputs": [
    {
     "data": {
      "application/vnd.jupyter.widget-view+json": {
       "model_id": "04d857041131494a8eb4f72d64626578",
       "version_major": 2,
       "version_minor": 0
      },
      "text/plain": [
       "VBox()"
      ]
     },
     "metadata": {},
     "output_type": "display_data"
    },
    {
     "data": {
      "application/vnd.jupyter.widget-view+json": {
       "model_id": "",
       "version_major": 2,
       "version_minor": 0
      },
      "text/plain": [
       "FloatProgress(value=0.0, bar_style='info', description='Progress:', layout=Layout(height='25px', width='50%'),…"
      ]
     },
     "metadata": {},
     "output_type": "display_data"
    }
   ],
   "source": [
    "## Extraction des features    \n",
    "\n",
    "bc_model_weights = spark.sparkContext.broadcast(model.get_weights())"
   ]
  },
  {
   "cell_type": "code",
   "execution_count": 8,
   "id": "b2e7c9c6",
   "metadata": {},
   "outputs": [
    {
     "data": {
      "application/vnd.jupyter.widget-view+json": {
       "model_id": "260491b32ece48cf9de14643b99dc64d",
       "version_major": 2,
       "version_minor": 0
      },
      "text/plain": [
       "VBox()"
      ]
     },
     "metadata": {},
     "output_type": "display_data"
    },
    {
     "data": {
      "application/vnd.jupyter.widget-view+json": {
       "model_id": "",
       "version_major": 2,
       "version_minor": 0
      },
      "text/plain": [
       "FloatProgress(value=0.0, bar_style='info', description='Progress:', layout=Layout(height='25px', width='50%'),…"
      ]
     },
     "metadata": {},
     "output_type": "display_data"
    },
    {
     "name": "stdout",
     "output_type": "stream",
     "text": [
      "/usr/lib/spark/python/lib/pyspark.zip/pyspark/sql/pandas/functions.py:386: UserWarning: In Python 3.6+ and Spark 3.0+, it is preferred to specify type hints for pandas UDF instead of specifying pandas UDF type which will be deprecated in the future releases. See SPARK-28264 for more details."
     ]
    }
   ],
   "source": [
    "## Fonctions utiles   \n",
    "\n",
    "# https://docs.databricks.com/_static/notebooks/deep-learning/deep-learning-transfer-learning-keras.html\n",
    "def model_fn():\n",
    "    \"\"\"\n",
    "    Returns a Xception model with top layer \n",
    "    removed and broadcasted pretrained weights.\n",
    "    \"\"\"\n",
    "    model = Xception(\n",
    "                    include_top=False, # top layer supprimé\n",
    "                    weights=None,\n",
    "                    pooling='max')\n",
    "    model.set_weights(bc_model_weights.value)\n",
    "    return model\n",
    "\n",
    "def preprocess(content):\n",
    "    \"\"\"\n",
    "    Preprocesses raw image bytes for prediction.\n",
    "    \"\"\"\n",
    "    # lecture + redimension (299x299) pour Xception\n",
    "    img = PIL.Image.open(io.BytesIO(content)).resize([299, 299])\n",
    "    arr = img_to_array(img) # image en array\n",
    "    return preprocess_input(arr)\n",
    "\n",
    "def featurize_series(model, content_series):\n",
    "    \"\"\"\n",
    "    Featurize a pd.Series of raw images using the input model.\n",
    "    :return: a pd.Series of image features\n",
    "    \"\"\"\n",
    "    input = np.stack(content_series.map(preprocess))\n",
    "    preds = model.predict(input)\n",
    "    # For some layers, output features will be multi-dimensional tensors.\n",
    "    # We flatten the feature tensors to vectors for easier storage in Spark DataFrames.\n",
    "    output = [p.flatten() for p in preds]\n",
    "    return pd.Series(output)\n",
    "\n",
    "@pandas_udf('array<float>', PandasUDFType.SCALAR_ITER)\n",
    "def featurize_udf(content_series_iter):\n",
    "    '''\n",
    "    This method is a Scalar Iterator pandas UDF wrapping our featurization function.\n",
    "    The decorator specifies that this returns a Spark DataFrame column of type ArrayType(FloatType).\n",
    "  \n",
    "    :param content_series_iter: This argument is an iterator over batches of data, where each batch\n",
    "                            is a pandas Series of image data.\n",
    "    '''\n",
    "    # With Scalar Iterator pandas UDFs, we can load the model once and then re-use it\n",
    "    # for multiple data batches.  This amortizes the overhead of loading big models.\n",
    "    model = model_fn()\n",
    "    for content_series in content_series_iter:\n",
    "        yield featurize_series(model, content_series)"
   ]
  },
  {
   "cell_type": "code",
   "execution_count": 9,
   "id": "198d92f9",
   "metadata": {},
   "outputs": [
    {
     "data": {
      "application/vnd.jupyter.widget-view+json": {
       "model_id": "1bd52686afa74a9bb2a8e18a6db0d739",
       "version_major": 2,
       "version_minor": 0
      },
      "text/plain": [
       "VBox()"
      ]
     },
     "metadata": {},
     "output_type": "display_data"
    },
    {
     "data": {
      "application/vnd.jupyter.widget-view+json": {
       "model_id": "",
       "version_major": 2,
       "version_minor": 0
      },
      "text/plain": [
       "FloatProgress(value=0.0, bar_style='info', description='Progress:', layout=Layout(height='25px', width='50%'),…"
      ]
     },
     "metadata": {},
     "output_type": "display_data"
    }
   ],
   "source": [
    "## Extraction des features\n",
    "        \n",
    "# Pandas UDFs on large records (e.g., very large images) can run into Out Of Memory (OOM) errors.\n",
    "# If you hit such errors in the cell below, try reducing the Arrow batch size via `maxRecordsPerBatch`.\n",
    "spark.conf.set(\"spark.sql.execution.arrow.maxRecordsPerBatch\", \"1024\")\n",
    "\n",
    "# We can now run featurization on our entire Spark DataFrame.\n",
    "# NOTE: This can take a long time (about 10 minutes) since it applies a large model to the full dataset.\n",
    "features_df = df_binary.repartition(16).select(col(\"path\"), col('classe'),featurize_udf(\"content\").alias(\"X_features\"))"
   ]
  },
  {
   "cell_type": "markdown",
   "id": "d9bbb6e2",
   "metadata": {},
   "source": [
    "## Réduction de dimension PCA"
   ]
  },
  {
   "cell_type": "code",
   "execution_count": 10,
   "id": "f4a903f1",
   "metadata": {},
   "outputs": [
    {
     "data": {
      "application/vnd.jupyter.widget-view+json": {
       "model_id": "4854422259f643aba5bbeea9fc7e9915",
       "version_major": 2,
       "version_minor": 0
      },
      "text/plain": [
       "VBox()"
      ]
     },
     "metadata": {},
     "output_type": "display_data"
    },
    {
     "data": {
      "application/vnd.jupyter.widget-view+json": {
       "model_id": "",
       "version_major": 2,
       "version_minor": 0
      },
      "text/plain": [
       "FloatProgress(value=0.0, bar_style='info', description='Progress:', layout=Layout(height='25px', width='50%'),…"
      ]
     },
     "metadata": {},
     "output_type": "display_data"
    }
   ],
   "source": [
    "##  Réduction de dimension PCA   \n",
    "\n",
    "def pca_transformation(df, n_components=8):\n",
    "        \n",
    "    \"\"\"\n",
    "    Applique un algorithme de PCA sur l'ensemble des images pour réduire la dimension de chaque image \n",
    "    du jeu de données.\n",
    "    \n",
    "    Paramètres:\n",
    "    df(pyspark dataFrame): contient une colonne avec les données images\n",
    "    n_components(int): nombre de dimensions à conserver\n",
    "    \"\"\"\n",
    "    # Initilisation du temps de calcul\n",
    "    start_time = time.time()\n",
    "\n",
    "    # Les données images sont converties au format vecteur dense\n",
    "    to_vector_udf = udf(lambda r: Vectors.dense(r), VectorUDT())\n",
    "    df = df.withColumn('X_vectors', to_vector_udf('X_features'))\n",
    "    df = df.select('path', 'classe', 'X_vectors')\n",
    "\n",
    "    # Entrainement de l'algorithme\n",
    "    pca = PCA(k=n_components, inputCol='X_vectors', outputCol='X_vectors_pca')\n",
    "    model_pca = pca.fit(df)\n",
    "\n",
    "    # Transformation des images sur les k premières composantes\n",
    "    df = model_pca.transform(df)\n",
    "    \n",
    "    # Affiche le temps de calcul\n",
    "    print(\"Temps d'execution {:.2f} secondes\".format(time.time() - start_time))\n",
    "\n",
    "    return df"
   ]
  },
  {
   "cell_type": "code",
   "execution_count": 11,
   "id": "2a569be1",
   "metadata": {},
   "outputs": [
    {
     "data": {
      "application/vnd.jupyter.widget-view+json": {
       "model_id": "faaf31e88e6946e09ff6b2932ce70c78",
       "version_major": 2,
       "version_minor": 0
      },
      "text/plain": [
       "VBox()"
      ]
     },
     "metadata": {},
     "output_type": "display_data"
    },
    {
     "data": {
      "application/vnd.jupyter.widget-view+json": {
       "model_id": "",
       "version_major": 2,
       "version_minor": 0
      },
      "text/plain": [
       "FloatProgress(value=0.0, bar_style='info', description='Progress:', layout=Layout(height='25px', width='50%'),…"
      ]
     },
     "metadata": {},
     "output_type": "display_data"
    },
    {
     "name": "stdout",
     "output_type": "stream",
     "text": [
      "Temps d'execution 1569.21 secondes"
     ]
    }
   ],
   "source": [
    "df_final = pca_transformation(features_df, n_components=8)"
   ]
  },
  {
   "cell_type": "code",
   "execution_count": 12,
   "id": "ecddfd23",
   "metadata": {},
   "outputs": [
    {
     "data": {
      "application/vnd.jupyter.widget-view+json": {
       "model_id": "6debe6cfc397466f82dc6bd480b05ffc",
       "version_major": 2,
       "version_minor": 0
      },
      "text/plain": [
       "VBox()"
      ]
     },
     "metadata": {},
     "output_type": "display_data"
    },
    {
     "data": {
      "application/vnd.jupyter.widget-view+json": {
       "model_id": "",
       "version_major": 2,
       "version_minor": 0
      },
      "text/plain": [
       "FloatProgress(value=0.0, bar_style='info', description='Progress:', layout=Layout(height='25px', width='50%'),…"
      ]
     },
     "metadata": {},
     "output_type": "display_data"
    },
    {
     "name": "stdout",
     "output_type": "stream",
     "text": [
      "+--------------------+----------+--------------------+--------------------+--------------------+\n",
      "|                path|    classe|          X_features|           X_vectors|       X_vectors_pca|\n",
      "+--------------------+----------+--------------------+--------------------+--------------------+\n",
      "|s3://p8bucket/ima...|Watermelon|[5.9446484E-5, 7....|[5.94464836467523...|[-7.0447401522481...|\n",
      "|s3://p8bucket/ima...|Watermelon|[6.372116E-5, 8.8...|[6.37211633147671...|[-0.0010249877359...|\n",
      "|s3://p8bucket/ima...|Watermelon|[8.1717444E-5, 9....|[8.17174441181123...|[-9.3966337203747...|\n",
      "|s3://p8bucket/ima...|Watermelon|[7.3510615E-5, 7....|[7.35106150386855...|[-9.1395292732477...|\n",
      "|s3://p8bucket/ima...|Watermelon|[7.339455E-5, 7.3...|[7.33945489628240...|[-8.6866075690433...|\n",
      "|s3://p8bucket/ima...|Watermelon|[8.35455E-5, 8.20...|[8.35454993648454...|[-9.5380504757187...|\n",
      "|s3://p8bucket/ima...|Watermelon|[7.2197174E-5, 8....|[7.21971737220883...|[-8.3666898956553...|\n",
      "|s3://p8bucket/ima...|Watermelon|[7.686879E-5, 8.9...|[7.68687896197661...|[-6.7203815587292...|\n",
      "|s3://p8bucket/ima...|Watermelon|[7.9277015E-5, 8....|[7.92770151747390...|[-6.6400668196284...|\n",
      "|s3://p8bucket/ima...|Watermelon|[6.786924E-5, 8.7...|[6.78692376823164...|[-9.3447372769307...|\n",
      "|s3://p8bucket/ima...|Watermelon|[7.736602E-5, 8.5...|[7.73660212871618...|[-6.8135003789247...|\n",
      "|s3://p8bucket/ima...|Watermelon|[7.196265E-5, 8.4...|[7.19626477803103...|[-6.7157407481455...|\n",
      "|s3://p8bucket/ima...|Watermelon|[7.216191E-5, 8.9...|[7.21619071555323...|[-8.1541915164631...|\n",
      "|s3://p8bucket/ima...|Watermelon|[7.367474E-5, 8.7...|[7.36747388145886...|[-6.9841007186538...|\n",
      "|s3://p8bucket/ima...|Watermelon|[8.4084204E-5, 9....|[8.40842039906419...|[-9.5837399525181...|\n",
      "|s3://p8bucket/ima...|Watermelon|[6.593276E-5, 8.2...|[6.59327633911743...|[-9.6514734247971...|\n",
      "|s3://p8bucket/ima...|Watermelon|[7.1921066E-5, 9....|[7.19210656825453...|[-8.7790479582815...|\n",
      "|s3://p8bucket/ima...|Watermelon|[7.622818E-5, 9.4...|[7.62281779316254...|[-8.7320803381197...|\n",
      "|s3://p8bucket/ima...|Watermelon|[9.1188704E-5, 8....|[9.11887036636471...|[-6.3878791393002...|\n",
      "|s3://p8bucket/ima...|Watermelon|[7.050252E-5, 8.5...|[7.05025231582112...|[-8.7429803272613...|\n",
      "+--------------------+----------+--------------------+--------------------+--------------------+\n",
      "only showing top 20 rows"
     ]
    }
   ],
   "source": [
    "df_final.show()"
   ]
  },
  {
   "cell_type": "markdown",
   "id": "b1d066c4",
   "metadata": {},
   "source": [
    "## Enregistrement des données au format parquet"
   ]
  },
  {
   "cell_type": "code",
   "execution_count": 13,
   "id": "f0eeae3e",
   "metadata": {},
   "outputs": [
    {
     "data": {
      "application/vnd.jupyter.widget-view+json": {
       "model_id": "a8133c7144c6459d86e849ba26a5f795",
       "version_major": 2,
       "version_minor": 0
      },
      "text/plain": [
       "VBox()"
      ]
     },
     "metadata": {},
     "output_type": "display_data"
    },
    {
     "data": {
      "application/vnd.jupyter.widget-view+json": {
       "model_id": "",
       "version_major": 2,
       "version_minor": 0
      },
      "text/plain": [
       "FloatProgress(value=0.0, bar_style='info', description='Progress:', layout=Layout(height='25px', width='50%'),…"
      ]
     },
     "metadata": {},
     "output_type": "display_data"
    }
   ],
   "source": [
    "## Enregistrement des données prétraitées (parquet)    \n",
    "df_final.write.mode('overwrite').parquet(output_uri)"
   ]
  },
  {
   "cell_type": "markdown",
   "id": "355c4791",
   "metadata": {},
   "source": [
    "## Mini classification"
   ]
  },
  {
   "cell_type": "code",
   "execution_count": 14,
   "id": "85fb21fe",
   "metadata": {},
   "outputs": [
    {
     "data": {
      "application/vnd.jupyter.widget-view+json": {
       "model_id": "e184d37ae8684d559d99b5ce216d8c01",
       "version_major": 2,
       "version_minor": 0
      },
      "text/plain": [
       "VBox()"
      ]
     },
     "metadata": {},
     "output_type": "display_data"
    },
    {
     "data": {
      "application/vnd.jupyter.widget-view+json": {
       "model_id": "",
       "version_major": 2,
       "version_minor": 0
      },
      "text/plain": [
       "FloatProgress(value=0.0, bar_style='info', description='Progress:', layout=Layout(height='25px', width='50%'),…"
      ]
     },
     "metadata": {},
     "output_type": "display_data"
    },
    {
     "name": "stdout",
     "output_type": "stream",
     "text": [
      "Mini-classification"
     ]
    }
   ],
   "source": [
    "### Mini-classification\n",
    "print(\"Mini-classification\")\n",
    "## Préparation des données\n",
    "# drop the original data features column\n",
    "df = df_final.drop('path', 'X_features', 'X_vectors')"
   ]
  },
  {
   "cell_type": "code",
   "execution_count": 15,
   "id": "41391b8d",
   "metadata": {},
   "outputs": [
    {
     "data": {
      "application/vnd.jupyter.widget-view+json": {
       "model_id": "46e5b21bfa6f4a50aebde40f5bbf3051",
       "version_major": 2,
       "version_minor": 0
      },
      "text/plain": [
       "VBox()"
      ]
     },
     "metadata": {},
     "output_type": "display_data"
    },
    {
     "data": {
      "application/vnd.jupyter.widget-view+json": {
       "model_id": "",
       "version_major": 2,
       "version_minor": 0
      },
      "text/plain": [
       "FloatProgress(value=0.0, bar_style='info', description='Progress:', layout=Layout(height='25px', width='50%'),…"
      ]
     },
     "metadata": {},
     "output_type": "display_data"
    }
   ],
   "source": [
    "# Encodage de la cible\n",
    "# estimator\n",
    "l_indexer = StringIndexer(inputCol=\"classe\", outputCol=\"labelIndex\")\n",
    "df = l_indexer.fit(df).transform(df)"
   ]
  },
  {
   "cell_type": "code",
   "execution_count": 16,
   "id": "f4eb4bc4",
   "metadata": {},
   "outputs": [
    {
     "data": {
      "application/vnd.jupyter.widget-view+json": {
       "model_id": "44c43d46e63a4cabac2713ac9847ec44",
       "version_major": 2,
       "version_minor": 0
      },
      "text/plain": [
       "VBox()"
      ]
     },
     "metadata": {},
     "output_type": "display_data"
    },
    {
     "data": {
      "application/vnd.jupyter.widget-view+json": {
       "model_id": "",
       "version_major": 2,
       "version_minor": 0
      },
      "text/plain": [
       "FloatProgress(value=0.0, bar_style='info', description='Progress:', layout=Layout(height='25px', width='50%'),…"
      ]
     },
     "metadata": {},
     "output_type": "display_data"
    }
   ],
   "source": [
    "# data splitting\n",
    "(train,test) = df.randomSplit([0.7,0.3])"
   ]
  },
  {
   "cell_type": "markdown",
   "id": "ab0f32ab",
   "metadata": {},
   "source": [
    "### Régression logistique"
   ]
  },
  {
   "cell_type": "code",
   "execution_count": 17,
   "id": "10f296a4",
   "metadata": {},
   "outputs": [
    {
     "data": {
      "application/vnd.jupyter.widget-view+json": {
       "model_id": "74e9fc5476234440b97decf3c1ef7673",
       "version_major": 2,
       "version_minor": 0
      },
      "text/plain": [
       "VBox()"
      ]
     },
     "metadata": {},
     "output_type": "display_data"
    },
    {
     "data": {
      "application/vnd.jupyter.widget-view+json": {
       "model_id": "",
       "version_major": 2,
       "version_minor": 0
      },
      "text/plain": [
       "FloatProgress(value=0.0, bar_style='info', description='Progress:', layout=Layout(height='25px', width='50%'),…"
      ]
     },
     "metadata": {},
     "output_type": "display_data"
    },
    {
     "name": "stdout",
     "output_type": "stream",
     "text": [
      "Regression logistique"
     ]
    }
   ],
   "source": [
    "print(\"Regression logistique\")\n",
    "# train our model using training data\n",
    "lr = LogisticRegression(featuresCol = 'X_vectors_pca', labelCol = 'labelIndex', maxIter=10)\n",
    "lrModel = lr.fit(train)"
   ]
  },
  {
   "cell_type": "code",
   "execution_count": 18,
   "id": "6fb7fd89",
   "metadata": {},
   "outputs": [
    {
     "data": {
      "application/vnd.jupyter.widget-view+json": {
       "model_id": "7b750742ef874eec9204873619f50a32",
       "version_major": 2,
       "version_minor": 0
      },
      "text/plain": [
       "VBox()"
      ]
     },
     "metadata": {},
     "output_type": "display_data"
    },
    {
     "data": {
      "application/vnd.jupyter.widget-view+json": {
       "model_id": "",
       "version_major": 2,
       "version_minor": 0
      },
      "text/plain": [
       "FloatProgress(value=0.0, bar_style='info', description='Progress:', layout=Layout(height='25px', width='50%'),…"
      ]
     },
     "metadata": {},
     "output_type": "display_data"
    },
    {
     "name": "stdout",
     "output_type": "stream",
     "text": [
      "+----------+----------+\n",
      "|prediction|labelIndex|\n",
      "+----------+----------+\n",
      "|       0.0|       0.0|\n",
      "|       0.0|       0.0|\n",
      "|       4.0|       0.0|\n",
      "|       0.0|       0.0|\n",
      "|       0.0|       0.0|\n",
      "+----------+----------+\n",
      "only showing top 5 rows"
     ]
    }
   ],
   "source": [
    "# test our model and make predictions using testing data\n",
    "predictions = lrModel.transform(test)\n",
    "predictions.select(\"prediction\", \"labelIndex\").show(5)"
   ]
  },
  {
   "cell_type": "code",
   "execution_count": 19,
   "id": "e2870be5",
   "metadata": {},
   "outputs": [
    {
     "data": {
      "application/vnd.jupyter.widget-view+json": {
       "model_id": "016a94f445cb475481819bb89219bf19",
       "version_major": 2,
       "version_minor": 0
      },
      "text/plain": [
       "VBox()"
      ]
     },
     "metadata": {},
     "output_type": "display_data"
    },
    {
     "data": {
      "application/vnd.jupyter.widget-view+json": {
       "model_id": "",
       "version_major": 2,
       "version_minor": 0
      },
      "text/plain": [
       "FloatProgress(value=0.0, bar_style='info', description='Progress:', layout=Layout(height='25px', width='50%'),…"
      ]
     },
     "metadata": {},
     "output_type": "display_data"
    },
    {
     "name": "stdout",
     "output_type": "stream",
     "text": [
      "Accuracy = 0.910008 \n",
      "Precision = 0.909711"
     ]
    }
   ],
   "source": [
    "# evaluate the performance of the classifier\n",
    "evaluator = MulticlassClassificationEvaluator(labelCol=\"labelIndex\",predictionCol=\"prediction\", metricName=\"accuracy\")\n",
    "accuracy = evaluator.evaluate(predictions)\n",
    "print(\"Accuracy = %g \" % accuracy)\n",
    "\n",
    "evaluator = MulticlassClassificationEvaluator(labelCol=\"labelIndex\",predictionCol=\"prediction\", metricName='weightedPrecision')\n",
    "precision = evaluator.evaluate(predictions)\n",
    "print(\"Precision = %g \" % precision)"
   ]
  },
  {
   "cell_type": "markdown",
   "id": "5e7b5db6",
   "metadata": {},
   "source": [
    "### Random forest"
   ]
  },
  {
   "cell_type": "code",
   "execution_count": 20,
   "id": "1ab272b7",
   "metadata": {},
   "outputs": [
    {
     "data": {
      "application/vnd.jupyter.widget-view+json": {
       "model_id": "975b07cfdab340ac80a6aae67bece6f9",
       "version_major": 2,
       "version_minor": 0
      },
      "text/plain": [
       "VBox()"
      ]
     },
     "metadata": {},
     "output_type": "display_data"
    },
    {
     "data": {
      "application/vnd.jupyter.widget-view+json": {
       "model_id": "",
       "version_major": 2,
       "version_minor": 0
      },
      "text/plain": [
       "FloatProgress(value=0.0, bar_style='info', description='Progress:', layout=Layout(height='25px', width='50%'),…"
      ]
     },
     "metadata": {},
     "output_type": "display_data"
    },
    {
     "name": "stdout",
     "output_type": "stream",
     "text": [
      "Random forest"
     ]
    }
   ],
   "source": [
    "print(\"Random forest\")\n",
    "# train our model using training data\n",
    "rf = RandomForestClassifier(labelCol=\"labelIndex\",featuresCol='X_vectors_pca', numTrees=10)\n",
    "rfModel = rf.fit(train)"
   ]
  },
  {
   "cell_type": "code",
   "execution_count": 21,
   "id": "af4b8438",
   "metadata": {},
   "outputs": [
    {
     "data": {
      "application/vnd.jupyter.widget-view+json": {
       "model_id": "ac2e458c6be94dd2ba94e41cdf88d424",
       "version_major": 2,
       "version_minor": 0
      },
      "text/plain": [
       "VBox()"
      ]
     },
     "metadata": {},
     "output_type": "display_data"
    },
    {
     "data": {
      "application/vnd.jupyter.widget-view+json": {
       "model_id": "",
       "version_major": 2,
       "version_minor": 0
      },
      "text/plain": [
       "FloatProgress(value=0.0, bar_style='info', description='Progress:', layout=Layout(height='25px', width='50%'),…"
      ]
     },
     "metadata": {},
     "output_type": "display_data"
    },
    {
     "name": "stdout",
     "output_type": "stream",
     "text": [
      "+----------+----------+\n",
      "|prediction|labelIndex|\n",
      "+----------+----------+\n",
      "|       0.0|       0.0|\n",
      "|       0.0|       0.0|\n",
      "|       0.0|       0.0|\n",
      "|       0.0|       0.0|\n",
      "|       0.0|       0.0|\n",
      "+----------+----------+\n",
      "only showing top 5 rows"
     ]
    }
   ],
   "source": [
    "# test our model and make predictions using testing data\n",
    "predictions = rfModel.transform(test)\n",
    "predictions.select(\"prediction\", \"labelIndex\").show(5)"
   ]
  },
  {
   "cell_type": "code",
   "execution_count": 22,
   "id": "d3e7670c",
   "metadata": {},
   "outputs": [
    {
     "data": {
      "application/vnd.jupyter.widget-view+json": {
       "model_id": "26916446cdbd472dac76c5bc6d0893e5",
       "version_major": 2,
       "version_minor": 0
      },
      "text/plain": [
       "VBox()"
      ]
     },
     "metadata": {},
     "output_type": "display_data"
    },
    {
     "data": {
      "application/vnd.jupyter.widget-view+json": {
       "model_id": "",
       "version_major": 2,
       "version_minor": 0
      },
      "text/plain": [
       "FloatProgress(value=0.0, bar_style='info', description='Progress:', layout=Layout(height='25px', width='50%'),…"
      ]
     },
     "metadata": {},
     "output_type": "display_data"
    },
    {
     "name": "stdout",
     "output_type": "stream",
     "text": [
      "Accuracy = 0.926829 \n",
      "Precision = 0.944467"
     ]
    }
   ],
   "source": [
    "# evaluate the performance of the classifier\n",
    "evaluator = MulticlassClassificationEvaluator(labelCol=\"labelIndex\",predictionCol=\"prediction\", metricName=\"accuracy\")\n",
    "accuracy = evaluator.evaluate(predictions)\n",
    "print(\"Accuracy = %g \" % accuracy)\n",
    "\n",
    "evaluator = MulticlassClassificationEvaluator(labelCol=\"labelIndex\",predictionCol=\"prediction\", metricName='weightedPrecision')\n",
    "precision = evaluator.evaluate(predictions)\n",
    "print(\"Precision = %g \" % precision)"
   ]
  }
 ],
 "metadata": {
  "kernelspec": {
   "display_name": "PySpark",
   "language": "",
   "name": "pysparkkernel"
  },
  "language_info": {
   "codemirror_mode": {
    "name": "python",
    "version": 2
   },
   "mimetype": "text/x-python",
   "name": "pyspark",
   "pygments_lexer": "python2"
  }
 },
 "nbformat": 4,
 "nbformat_minor": 5
}
